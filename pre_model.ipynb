{
 "cells": [
  {
   "cell_type": "code",
   "execution_count": 14,
   "metadata": {},
   "outputs": [],
   "source": [
    "import pandas as pd\n",
    "import numpy as np\n",
    "import statsmodels.api as sm\n",
    "from statsmodels.formula.api import ols\n",
    "from sklearn.linear_model import LinearRegression\n",
    "from sklearn.model_selection import KFold, cross_val_score\n",
    "from sklearn.metrics import  mean_absolute_error\n",
    "from sklearn.model_selection import train_test_split"
   ]
  },
  {
   "cell_type": "code",
   "execution_count": 9,
   "metadata": {},
   "outputs": [],
   "source": [
    "sample = pd.read_csv(\"data_for_model.csv\")\n"
   ]
  },
  {
   "cell_type": "code",
   "execution_count": 10,
   "metadata": {},
   "outputs": [
    {
     "name": "stdout",
     "output_type": "stream",
     "text": [
      "                            OLS Regression Results                            \n",
      "==============================================================================\n",
      "Dep. Variable:                    Giá   R-squared:                       0.657\n",
      "Model:                            OLS   Adj. R-squared:                  0.657\n",
      "Method:                 Least Squares   F-statistic:                     1373.\n",
      "Date:                Thu, 26 Dec 2024   Prob (F-statistic):               0.00\n",
      "Time:                        20:21:35   Log-Likelihood:                -20100.\n",
      "No. Observations:                5015   AIC:                         4.022e+04\n",
      "Df Residuals:                    5007   BIC:                         4.027e+04\n",
      "Df Model:                           7                                         \n",
      "Covariance Type:            nonrobust                                         \n",
      "==================================================================================\n",
      "                     coef    std err          t      P>|t|      [0.025      0.975]\n",
      "----------------------------------------------------------------------------------\n",
      "const             -8.6472      0.651    -13.285      0.000      -9.923      -7.371\n",
      "Diện Tích          0.0509      0.001     46.295      0.000       0.049       0.053\n",
      "Triệu/m2           0.1395      0.002     57.083      0.000       0.135       0.144\n",
      "Số Phòng Ngủ       0.2425      0.181      1.338      0.181      -0.113       0.598\n",
      "Số Nhà Vệ Sinh     0.0816      0.180      0.454      0.650      -0.271       0.434\n",
      "Giá Đề Xuất    -6.415e-07   3.55e-06     -0.181      0.857   -7.61e-06    6.32e-06\n",
      "Giá Quận          -0.6022      0.105     -5.713      0.000      -0.809      -0.396\n",
      "Giá Đường          0.3153      0.021     15.182      0.000       0.275       0.356\n",
      "==============================================================================\n",
      "Omnibus:                     6548.730   Durbin-Watson:                   1.978\n",
      "Prob(Omnibus):                  0.000   Jarque-Bera (JB):          7883977.026\n",
      "Skew:                           6.530   Prob(JB):                         0.00\n",
      "Kurtosis:                     196.802   Cond. No.                     4.66e+05\n",
      "==============================================================================\n",
      "\n",
      "Notes:\n",
      "[1] Standard Errors assume that the covariance matrix of the errors is correctly specified.\n",
      "[2] The condition number is large, 4.66e+05. This might indicate that there are\n",
      "strong multicollinearity or other numerical problems.\n"
     ]
    }
   ],
   "source": [
    "X = sample[['Diện Tích', 'Triệu/m2', 'Số Phòng Ngủ', 'Số Nhà Vệ Sinh',\n",
    "       'Giá Đề Xuất', 'Giá Quận', 'Giá Đường']]\n",
    "y = sample['Giá']\n",
    "\n",
    "# Thêm một hằng số (constant) vào mô hình\n",
    "X = sm.add_constant(X)\n",
    "\n",
    "# Xây dựng mô hình hồi quy OLS\n",
    "model = sm.OLS(y, X).fit()\n",
    "\n",
    "# Hiển thị kết quả mô hình\n",
    "print(model.summary())"
   ]
  },
  {
   "cell_type": "code",
   "execution_count": 11,
   "metadata": {},
   "outputs": [
    {
     "data": {
      "text/plain": [
       "'Giá = -7.560 + (-0.000)*Unnamed: 0 + (0.047)*Diện Tích + (0.137)*Triệu/m2 + (0.170)*Số Phòng Ngủ + (0.158)*Số Nhà Vệ Sinh + (-0.000)*Giá Đề Xuất + (-0.618)*Giá Quận + (0.338)*Giá Đường'"
      ]
     },
     "execution_count": 11,
     "metadata": {},
     "output_type": "execute_result"
    }
   ],
   "source": [
    "# Tách X (đặc trưng) và y (mục tiêu)\n",
    "X = sample.drop(columns=[\"Giá\"])\n",
    "y = sample[\"Giá\"]  # Cột mục tiêu\n",
    "\n",
    "# Chia dữ liệu thành 80% train và 20% test\n",
    "X_train, X_test, y_train, y_test = train_test_split(X, y, test_size=0.2, random_state=42)\n",
    "\n",
    "def OLS(X_train, y_train):\n",
    "\n",
    "    # Khởi tạo và huấn luyện mô hình hồi quy tuyến tính\n",
    "    model = LinearRegression()\n",
    "    model.fit(X_train, y_train)\n",
    "\n",
    "    # Trả về mô hình\n",
    "    return model\n",
    "\n",
    "#2b.\n",
    "def find_best_feature(train, features, random_state, n_splits):\n",
    "    \"\"\"\n",
    "    Đánh giá các đặc trưng bằng cách sử dụng cross-validation để tìm đặc trưng tốt nhất dựa trên MAE.\n",
    "\n",
    "    Parameters:\n",
    "    - train: DataFrame chứa dữ liệu huấn luyện.\n",
    "    - features: Danh sách các tên cột đặc trưng cần thử nghiệm.\n",
    "    - n_splits: Số lượng folds trong cross-validation.\n",
    "    - random_state: Tham số ngẫu nhiên cho việc xáo trộn dữ liệu.\n",
    "\n",
    "    Returns:\n",
    "    - best_feature: Tên đặc trưng tốt nhất.\n",
    "    \"\"\"\n",
    "\n",
    "    # Xáo trộn dữ liệu\n",
    "    train_data_shuffled = train.sample(frac=1, random_state=random_state).reset_index(drop=True)\n",
    "\n",
    "    # Khởi tạo mô hình\n",
    "    model = LinearRegression()\n",
    "\n",
    "    # Khởi tạo Cross-Validation\n",
    "    kf = KFold(n_splits=n_splits, shuffle=False)\n",
    "    best_mae = float('inf')\n",
    "    best_feature = None\n",
    "\n",
    "    # Thử nghiệm từng đặc trưng một\n",
    "    for feature in features:\n",
    "        X = train_data_shuffled[[feature]]\n",
    "        y = train_data_shuffled['Giá']\n",
    "        \n",
    "        # Đánh giá mô hình sử dụng Cross-Validation với MAE\n",
    "        mae_scores = -cross_val_score(model, X, y, cv=kf, scoring='neg_mean_absolute_error')\n",
    "        mean_mae = mae_scores.mean()\n",
    "        \n",
    "        print(f\"Feature: {feature}, Cross-Validation MAE: {mean_mae:.3f}\")\n",
    "        \n",
    "        # Cập nhật nếu có đặc trưng tốt hơn\n",
    "        if mean_mae < best_mae:\n",
    "            best_mae = mean_mae\n",
    "            best_feature = feature\n",
    "\n",
    "    # Trả về thuộc tính tốt nhất\n",
    "    return best_feature\n",
    "\n",
    "\n",
    "# Gọi hàm OLS để trả về mô hình được xây dựng bằng thư viện và được huấn luyện bằng tập train \n",
    "model = OLS(X_train, y_train)\n",
    "\n",
    "# Lấy các tham số trả về từ mô hình\n",
    "coefficients = model.coef_\n",
    "intercept = model.intercept_\n",
    "\n",
    "# Công thức hồi quy \n",
    "regression_formula = f\"Giá = {intercept:.3f} + \" + \" + \".join([f\"({coeff:.3f})*{feature}\" for coeff, feature in zip(coefficients, X_train.columns)])\n",
    "regression_formula\n",
    "\n",
    "# Chạy xong khúc này ông chạy khúc dưới gọi hàm MAE để cho ra kết quả nha, còn nếu muốn chạy mô hình khác thì là cell ngay dưới luôn chạy rồi chạy MAE lại."
   ]
  },
  {
   "cell_type": "code",
   "execution_count": 12,
   "metadata": {},
   "outputs": [
    {
     "data": {
      "text/html": [
       "<style>#sk-container-id-1 {color: black;background-color: white;}#sk-container-id-1 pre{padding: 0;}#sk-container-id-1 div.sk-toggleable {background-color: white;}#sk-container-id-1 label.sk-toggleable__label {cursor: pointer;display: block;width: 100%;margin-bottom: 0;padding: 0.3em;box-sizing: border-box;text-align: center;}#sk-container-id-1 label.sk-toggleable__label-arrow:before {content: \"▸\";float: left;margin-right: 0.25em;color: #696969;}#sk-container-id-1 label.sk-toggleable__label-arrow:hover:before {color: black;}#sk-container-id-1 div.sk-estimator:hover label.sk-toggleable__label-arrow:before {color: black;}#sk-container-id-1 div.sk-toggleable__content {max-height: 0;max-width: 0;overflow: hidden;text-align: left;background-color: #f0f8ff;}#sk-container-id-1 div.sk-toggleable__content pre {margin: 0.2em;color: black;border-radius: 0.25em;background-color: #f0f8ff;}#sk-container-id-1 input.sk-toggleable__control:checked~div.sk-toggleable__content {max-height: 200px;max-width: 100%;overflow: auto;}#sk-container-id-1 input.sk-toggleable__control:checked~label.sk-toggleable__label-arrow:before {content: \"▾\";}#sk-container-id-1 div.sk-estimator input.sk-toggleable__control:checked~label.sk-toggleable__label {background-color: #d4ebff;}#sk-container-id-1 div.sk-label input.sk-toggleable__control:checked~label.sk-toggleable__label {background-color: #d4ebff;}#sk-container-id-1 input.sk-hidden--visually {border: 0;clip: rect(1px 1px 1px 1px);clip: rect(1px, 1px, 1px, 1px);height: 1px;margin: -1px;overflow: hidden;padding: 0;position: absolute;width: 1px;}#sk-container-id-1 div.sk-estimator {font-family: monospace;background-color: #f0f8ff;border: 1px dotted black;border-radius: 0.25em;box-sizing: border-box;margin-bottom: 0.5em;}#sk-container-id-1 div.sk-estimator:hover {background-color: #d4ebff;}#sk-container-id-1 div.sk-parallel-item::after {content: \"\";width: 100%;border-bottom: 1px solid gray;flex-grow: 1;}#sk-container-id-1 div.sk-label:hover label.sk-toggleable__label {background-color: #d4ebff;}#sk-container-id-1 div.sk-serial::before {content: \"\";position: absolute;border-left: 1px solid gray;box-sizing: border-box;top: 0;bottom: 0;left: 50%;z-index: 0;}#sk-container-id-1 div.sk-serial {display: flex;flex-direction: column;align-items: center;background-color: white;padding-right: 0.2em;padding-left: 0.2em;position: relative;}#sk-container-id-1 div.sk-item {position: relative;z-index: 1;}#sk-container-id-1 div.sk-parallel {display: flex;align-items: stretch;justify-content: center;background-color: white;position: relative;}#sk-container-id-1 div.sk-item::before, #sk-container-id-1 div.sk-parallel-item::before {content: \"\";position: absolute;border-left: 1px solid gray;box-sizing: border-box;top: 0;bottom: 0;left: 50%;z-index: -1;}#sk-container-id-1 div.sk-parallel-item {display: flex;flex-direction: column;z-index: 1;position: relative;background-color: white;}#sk-container-id-1 div.sk-parallel-item:first-child::after {align-self: flex-end;width: 50%;}#sk-container-id-1 div.sk-parallel-item:last-child::after {align-self: flex-start;width: 50%;}#sk-container-id-1 div.sk-parallel-item:only-child::after {width: 0;}#sk-container-id-1 div.sk-dashed-wrapped {border: 1px dashed gray;margin: 0 0.4em 0.5em 0.4em;box-sizing: border-box;padding-bottom: 0.4em;background-color: white;}#sk-container-id-1 div.sk-label label {font-family: monospace;font-weight: bold;display: inline-block;line-height: 1.2em;}#sk-container-id-1 div.sk-label-container {text-align: center;}#sk-container-id-1 div.sk-container {/* jupyter's `normalize.less` sets `[hidden] { display: none; }` but bootstrap.min.css set `[hidden] { display: none !important; }` so we also need the `!important` here to be able to override the default hidden behavior on the sphinx rendered scikit-learn.org. See: https://github.com/scikit-learn/scikit-learn/issues/21755 */display: inline-block !important;position: relative;}#sk-container-id-1 div.sk-text-repr-fallback {display: none;}</style><div id=\"sk-container-id-1\" class=\"sk-top-container\"><div class=\"sk-text-repr-fallback\"><pre>RandomForestRegressor(random_state=42)</pre><b>In a Jupyter environment, please rerun this cell to show the HTML representation or trust the notebook. <br />On GitHub, the HTML representation is unable to render, please try loading this page with nbviewer.org.</b></div><div class=\"sk-container\" hidden><div class=\"sk-item\"><div class=\"sk-estimator sk-toggleable\"><input class=\"sk-toggleable__control sk-hidden--visually\" id=\"sk-estimator-id-1\" type=\"checkbox\" checked><label for=\"sk-estimator-id-1\" class=\"sk-toggleable__label sk-toggleable__label-arrow\">RandomForestRegressor</label><div class=\"sk-toggleable__content\"><pre>RandomForestRegressor(random_state=42)</pre></div></div></div></div></div>"
      ],
      "text/plain": [
       "RandomForestRegressor(random_state=42)"
      ]
     },
     "execution_count": 12,
     "metadata": {},
     "output_type": "execute_result"
    }
   ],
   "source": [
    "# Hoặc mô hình RandomForestRegressorRandomForestRegressor\n",
    "from sklearn.ensemble import RandomForestRegressor\n",
    "from sklearn.metrics import mean_squared_error, r2_score\n",
    "\n",
    "# Tạo mô hình\n",
    "model = RandomForestRegressor(n_estimators=100, random_state=42)\n",
    "\n",
    "# Huấn luyện\n",
    "model.fit(X_train, y_train)"
   ]
  },
  {
   "cell_type": "code",
   "execution_count": 15,
   "metadata": {},
   "outputs": [
    {
     "name": "stdout",
     "output_type": "stream",
     "text": [
      "MAE: 0.625\n",
      "Giá trị thử nghiệm (X_sample):\n",
      "[[5.711e+03 9.700e+01 1.250e+02 3.000e+00 2.000e+00 1.612e+05 6.950e+00\n",
      "  8.050e+00]]\n",
      "\n",
      "Giá trị thực tế (y_test[942]): 12.125\n",
      "Giá trị dự đoán: 12.092799999999997\n"
     ]
    },
    {
     "name": "stderr",
     "output_type": "stream",
     "text": [
      "c:\\ProgramData\\anaconda3\\Lib\\site-packages\\sklearn\\base.py:439: UserWarning: X does not have valid feature names, but RandomForestRegressor was fitted with feature names\n",
      "  warnings.warn(\n"
     ]
    }
   ],
   "source": [
    "# Gọi hàm MAE (tự cài đặt hoặc từ thư viện) trên tập kiểm tra\n",
    "\n",
    "# Gọi dự đoán treen tập test\n",
    "y_pred = model.predict(X_test)\n",
    "# Tính toán độ lỗi tuyệt đối trung bình (MAE)\n",
    "mae = mean_absolute_error(y_test, y_pred)\n",
    "print(f\"MAE: {mae:.3f}\")\n",
    "\n",
    "# Lấy một chỉ số ngẫu nhiên từ tập kiểm thử\n",
    "random_index = np.random.randint(0, len(X_test))\n",
    "\n",
    "# Lấy giá trị thử nghiệm từ X_test\n",
    "X_sample = X_test.iloc[random_index].values.reshape(1, -1)\n",
    "\n",
    "# Hiển thị giá trị thử nghiệm\n",
    "print(\"Giá trị thử nghiệm (X_sample):\")\n",
    "print(X_sample)\n",
    "\n",
    "# Dự đoán giá trị y tương ứng cho X_sample\n",
    "y_pred_sample = model.predict(X_sample)\n",
    "\n",
    "# Hiển thị giá trị dự đoán và giá trị thực tế từ y_test\n",
    "print(f\"\\nGiá trị thực tế (y_test[{random_index}]): {y_test.iloc[random_index]}\")\n",
    "print(f\"Giá trị dự đoán: {y_pred_sample[0]}\")"
   ]
  }
 ],
 "metadata": {
  "kernelspec": {
   "display_name": "base",
   "language": "python",
   "name": "python3"
  },
  "language_info": {
   "codemirror_mode": {
    "name": "ipython",
    "version": 3
   },
   "file_extension": ".py",
   "mimetype": "text/x-python",
   "name": "python",
   "nbconvert_exporter": "python",
   "pygments_lexer": "ipython3",
   "version": "3.11.7"
  }
 },
 "nbformat": 4,
 "nbformat_minor": 2
}
