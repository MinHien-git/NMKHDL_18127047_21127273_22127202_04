{
 "cells": [
  {
   "cell_type": "code",
   "execution_count": 2,
   "metadata": {},
   "outputs": [],
   "source": [
    "import pandas as pd\n",
    "import seaborn as sns\n",
    "import numpy as np\n",
    "import matplotlib.pyplot as plt\n",
    "from matplotlib import cm\n",
    "import seaborn as sns\n",
    "from matplotlib.gridspec import GridSpec\n"
   ]
  },
  {
   "cell_type": "code",
   "execution_count": 9,
   "metadata": {},
   "outputs": [
    {
     "data": {
      "text/html": [
       "<div>\n",
       "<style scoped>\n",
       "    .dataframe tbody tr th:only-of-type {\n",
       "        vertical-align: middle;\n",
       "    }\n",
       "\n",
       "    .dataframe tbody tr th {\n",
       "        vertical-align: top;\n",
       "    }\n",
       "\n",
       "    .dataframe thead th {\n",
       "        text-align: right;\n",
       "    }\n",
       "</style>\n",
       "<table border=\"1\" class=\"dataframe\">\n",
       "  <thead>\n",
       "    <tr style=\"text-align: right;\">\n",
       "      <th></th>\n",
       "      <th>Price</th>\n",
       "      <th>Area</th>\n",
       "      <th>Bedrooms</th>\n",
       "      <th>Toilets</th>\n",
       "      <th>Published At</th>\n",
       "      <th>Loại tin</th>\n",
       "      <th>Status</th>\n",
       "      <th>Developer</th>\n",
       "      <th>Street</th>\n",
       "      <th>District</th>\n",
       "      <th>Suggested Price</th>\n",
       "      <th>Million/m2</th>\n",
       "      <th>District Price</th>\n",
       "      <th>Street Price</th>\n",
       "    </tr>\n",
       "  </thead>\n",
       "  <tbody>\n",
       "    <tr>\n",
       "      <th>0</th>\n",
       "      <td>7.50</td>\n",
       "      <td>85.0</td>\n",
       "      <td>4</td>\n",
       "      <td>6</td>\n",
       "      <td>2024-10-24</td>\n",
       "      <td>Tin thường</td>\n",
       "      <td>Đã bàn giao</td>\n",
       "      <td>cá nhân/môi giới</td>\n",
       "      <td>1</td>\n",
       "      <td>bình chánh</td>\n",
       "      <td>107.1</td>\n",
       "      <td>88.24</td>\n",
       "      <td>4.500</td>\n",
       "      <td>15.25</td>\n",
       "    </tr>\n",
       "    <tr>\n",
       "      <th>1</th>\n",
       "      <td>23.00</td>\n",
       "      <td>230.0</td>\n",
       "      <td>5</td>\n",
       "      <td>6</td>\n",
       "      <td>2024-10-24</td>\n",
       "      <td>Tin thường</td>\n",
       "      <td>Đã bàn giao</td>\n",
       "      <td>cá nhân/môi giới</td>\n",
       "      <td>1</td>\n",
       "      <td>bình chánh</td>\n",
       "      <td>107.1</td>\n",
       "      <td>100.00</td>\n",
       "      <td>4.500</td>\n",
       "      <td>15.25</td>\n",
       "    </tr>\n",
       "    <tr>\n",
       "      <th>2</th>\n",
       "      <td>4.99</td>\n",
       "      <td>52.0</td>\n",
       "      <td>3</td>\n",
       "      <td>2</td>\n",
       "      <td>2024-10-25</td>\n",
       "      <td>Tin thường</td>\n",
       "      <td>Đã bàn giao</td>\n",
       "      <td>cá nhân/môi giới</td>\n",
       "      <td>1</td>\n",
       "      <td>bình tân</td>\n",
       "      <td>98.8</td>\n",
       "      <td>95.96</td>\n",
       "      <td>5.225</td>\n",
       "      <td>4.85</td>\n",
       "    </tr>\n",
       "    <tr>\n",
       "      <th>3</th>\n",
       "      <td>4.25</td>\n",
       "      <td>46.0</td>\n",
       "      <td>2</td>\n",
       "      <td>2</td>\n",
       "      <td>2024-10-28</td>\n",
       "      <td>Tin thường</td>\n",
       "      <td>Đã bàn giao</td>\n",
       "      <td>cá nhân/môi giới</td>\n",
       "      <td>1</td>\n",
       "      <td>bình tân</td>\n",
       "      <td>98.8</td>\n",
       "      <td>92.39</td>\n",
       "      <td>5.225</td>\n",
       "      <td>4.85</td>\n",
       "    </tr>\n",
       "    <tr>\n",
       "      <th>4</th>\n",
       "      <td>4.85</td>\n",
       "      <td>67.0</td>\n",
       "      <td>3</td>\n",
       "      <td>2</td>\n",
       "      <td>2024-10-25</td>\n",
       "      <td>Tin thường</td>\n",
       "      <td>Đã bàn giao</td>\n",
       "      <td>cá nhân/môi giới</td>\n",
       "      <td>1</td>\n",
       "      <td>bình tân</td>\n",
       "      <td>98.8</td>\n",
       "      <td>72.39</td>\n",
       "      <td>5.225</td>\n",
       "      <td>4.85</td>\n",
       "    </tr>\n",
       "  </tbody>\n",
       "</table>\n",
       "</div>"
      ],
      "text/plain": [
       "   Price   Area  Bedrooms  Toilets Published At    Loại tin       Status  \\\n",
       "0   7.50   85.0         4        6   2024-10-24  Tin thường  Đã bàn giao   \n",
       "1  23.00  230.0         5        6   2024-10-24  Tin thường  Đã bàn giao   \n",
       "2   4.99   52.0         3        2   2024-10-25  Tin thường  Đã bàn giao   \n",
       "3   4.25   46.0         2        2   2024-10-28  Tin thường  Đã bàn giao   \n",
       "4   4.85   67.0         3        2   2024-10-25  Tin thường  Đã bàn giao   \n",
       "\n",
       "          Developer Street    District  Suggested Price  Million/m2  \\\n",
       "0  cá nhân/môi giới      1  bình chánh            107.1       88.24   \n",
       "1  cá nhân/môi giới      1  bình chánh            107.1      100.00   \n",
       "2  cá nhân/môi giới      1    bình tân             98.8       95.96   \n",
       "3  cá nhân/môi giới      1    bình tân             98.8       92.39   \n",
       "4  cá nhân/môi giới      1    bình tân             98.8       72.39   \n",
       "\n",
       "   District Price  Street Price  \n",
       "0           4.500         15.25  \n",
       "1           4.500         15.25  \n",
       "2           5.225          4.85  \n",
       "3           5.225          4.85  \n",
       "4           5.225          4.85  "
      ]
     },
     "execution_count": 9,
     "metadata": {},
     "output_type": "execute_result"
    }
   ],
   "source": [
    "df = pd.read_csv('cleaned_data.csv')\n",
    "df.head()"
   ]
  },
  {
   "cell_type": "code",
   "execution_count": null,
   "metadata": {},
   "outputs": [],
   "source": [
    "unduplicated_data.head(10)"
   ]
  },
  {
   "cell_type": "code",
   "execution_count": null,
   "metadata": {},
   "outputs": [],
   "source": [
    "gbd_path = './gbd.csv'\n",
    "df_gbd = pd.read_csv(gbd_path)\n",
    "df_gbd['Tên đường'] = df_gbd['TÊN ĐƯỜNG'].str.lower()\n",
    "df_gbd['Quận'] = df_gbd['QUẬN'].str.lower()\n",
    "# Giá trung bình của đất nơi dự án\n",
    "def calculate_avg_district_prices(df_gbd):\n",
    "    district_avg_prices = {}\n",
    "\n",
    "    # Group by district and calculate the average of 'Giá đất đề nghị điều chỉnh'\n",
    "    for district in df_gbd['Quận'].unique():\n",
    "        # Filter data for the district\n",
    "        district_data = df_gbd[df_gbd['Quận'] == district].copy()\n",
    "        \n",
    "        # Ensure 'Giá đất đề nghị điều chỉnh' is numeric and calculate the average\n",
    "        district_data.loc[:, 'Giá đất đề nghị điều chỉnh'] = pd.to_numeric(district_data['Giá đất đề nghị điều chỉnh'], errors='coerce')\n",
    "        \n",
    "        # Calculate the average price for the district\n",
    "        avg_price = district_data['Giá đất đề nghị điều chỉnh'].mean()\n",
    "        district_avg_prices[district] = avg_price\n",
    "\n",
    "    return district_avg_prices\n",
    "\n",
    "\n",
    "district_avg_prices = calculate_avg_district_prices(df_gbd)\n",
    "district_avg_prices"
   ]
  },
  {
   "cell_type": "code",
   "execution_count": null,
   "metadata": {},
   "outputs": [],
   "source": [
    "def contains_hcm_and_district(address, district):\n",
    "    # Ensure that we are checking if the district and either Hồ Chí Minh or Thủ Đức appear in the address\n",
    "    return district.lower() in address.lower() and ('hồ chí minh' in address.lower() or 'thủ đức' in address.lower())\n",
    "\n",
    "def assign_district_price(row):\n",
    "    # Normalize address to lowercase\n",
    "    address = row['Address'].lower()\n",
    "    street_match = df_gbd[df_gbd['Tên đường'].apply(lambda x: x.lower() in address)]\n",
    "    print(f\"Processing address: {address}, {len(street_match)}\")  # Debug print for address\n",
    "    \n",
    "    for idx, match in street_match.iterrows():\n",
    "        street_name = match['Tên đường'].lower()\n",
    "        district = match['Quận'].lower()\n",
    "\n",
    "        if district in ['Thủ Đức']:\n",
    "            print(f\"District {district} is a sub-district of Thủ Đức, checking street match...\")\n",
    "            price = match['Giá đất đề nghị điều chỉnh']\n",
    "            return 'thủ đức', price, street_name\n",
    "\n",
    "        if street_name in address and district in address:\n",
    "            print(f\"Found exact match: Street = {street_name}, District = {district}\")\n",
    "            price = match['Giá đất đề nghị điều chỉnh']\n",
    "            return district, price, street_name\n",
    "\n",
    "    for district in district_avg_prices:\n",
    "        if contains_hcm_and_district(address, district):\n",
    "            price = district_avg_prices[district]\n",
    "            print(f\"Price found for district {district}: {price}\")\n",
    "            return district, price, None\n",
    "\n",
    "    print(f\"No match found for address: {address}\")\n",
    "    return None, None, None\n",
    "\n",
    "unduplicated_data[['Quận', 'Giá Đề Xuất', 'Đường']] = unduplicated_data.apply(lambda row: pd.Series(assign_district_price(row)), axis=1)\n",
    "unduplicated_data = unduplicated_data[unduplicated_data['Giá Đề Xuất'].notna()]\n",
    "unduplicated_data.head(10000).to_csv('new_data.csv', index=False)"
   ]
  },
  {
   "cell_type": "code",
   "execution_count": null,
   "metadata": {},
   "outputs": [],
   "source": [
    "# Xử lý số lượng các căn hộ\n",
    "def handle_number_of_apartment(value):\n",
    "    try:\n",
    "        if isinstance(value, str):\n",
    "            # Kiểm tra và loại bỏ các chuỗi chứa đơn vị không hợp lệ\n",
    "            if \"m²\" in value or \"-\" in value or not value.replace(\".\", \"\").isdigit():\n",
    "                return None\n",
    "            # Loại bỏ dấu chấm để xử lý: \"1.000\" --> 1000\n",
    "            value = value.replace(\".\", \"\")\n",
    "            return int(value)\n",
    "        # Nếu giá trị đã là số (int hoặc float), chuyển thành int và trả về\n",
    "        elif isinstance(value, (int, float)):\n",
    "            return int(value)\n",
    "        # Trả về None nếu không phải chuỗi, int, hoặc float\n",
    "        return None        \n",
    "    except Exception as e:\n",
    "        print(f\"Lỗi khi xử lý giá trị: {value}. Chi tiết lỗi: {e}\")\n",
    "        return None\n",
    "\n",
    "# Áp dụng vào trong tập dữ liệu để xử lý thông số số lượng căn hộhộ\n",
    "unduplicated_data[\"Số Căn Hộ\"] = unduplicated_data[\"Number of Apartments\"].apply(handle_number_of_apartment)"
   ]
  },
  {
   "cell_type": "code",
   "execution_count": null,
   "metadata": {},
   "outputs": [],
   "source": [
    "unduplicated_data.info()"
   ]
  },
  {
   "cell_type": "code",
   "execution_count": null,
   "metadata": {},
   "outputs": [],
   "source": [
    "unduplicated_data.describe()"
   ]
  },
  {
   "cell_type": "code",
   "execution_count": 21,
   "metadata": {},
   "outputs": [],
   "source": [
    "# Việt hóa\n",
    "unduplicated_data[\"Chủ Đầu Tư\"] = unduplicated_data[\"Developer\"]\n",
    "unduplicated_data[\"Trạng Thái\"] = unduplicated_data[\"Status\"]"
   ]
  },
  {
   "cell_type": "code",
   "execution_count": 22,
   "metadata": {},
   "outputs": [],
   "source": [
    "# Drop các cột dư thừa sau khi Việt hóa\n",
    "unduplicated_data = unduplicated_data.drop([\"Area\", \"Price\", \"Address\", \"Bedrooms\", \"Toilets\", \"Published At\", \"Developer\", \"Status\", \"Number of Apartments\"], axis=\"columns\")"
   ]
  },
  {
   "cell_type": "code",
   "execution_count": 23,
   "metadata": {},
   "outputs": [],
   "source": [
    "# # Code xử lý loại bỏ các ngoại lai quá lớn có thể ảnh hưởng đến dữ liệu\n",
    "# # Tính Q1, Q3 và IQR của cột Giá\n",
    "# Q1_price = unduplicated_data['Giá'].quantile(0.25)\n",
    "# Q3_price = unduplicated_data['Giá'].quantile(0.75)\n",
    "# IQR_price = Q3_price - Q1_price\n",
    "\n",
    "# # Tính Q1, Q3 và IQR của cột Diện Tích\n",
    "# Q1_area = unduplicated_data['Diện Tích'].quantile(0.25)\n",
    "# Q3_area = unduplicated_data['Diện Tích'].quantile(0.75)\n",
    "# IQR_area = Q3_area - Q1_area\n",
    "\n",
    "\n",
    "# # Lọc các giá trị không phải là ngoại lai\n",
    "# df_no_outliers = unduplicated_data[(unduplicated_data['Diện Tích'] >= Q1_area - 1.5 * IQR_area) & (unduplicated_data['Diện Tích'] <= Q3_area + 1.5 * IQR_area)]\n",
    "# df_no_outliers = df_no_outliers[(df_no_outliers['Giá'] >= Q1_price - 1.5 * IQR_price) & (df_no_outliers['Giá'] <= Q3_price + 1.5 * IQR_price)]"
   ]
  },
  {
   "cell_type": "code",
   "execution_count": null,
   "metadata": {},
   "outputs": [],
   "source": [
    "unduplicated_data.info()"
   ]
  },
  {
   "cell_type": "markdown",
   "metadata": {},
   "source": [
    "# B. EDA - Khám phá dữ liệu"
   ]
  },
  {
   "cell_type": "markdown",
   "metadata": {},
   "source": [
    "## I. Các thống kê về số lượng bất động sản"
   ]
  },
  {
   "cell_type": "markdown",
   "metadata": {},
   "source": [
    "### 1. Thống kê về tổng số lượng bất động sản được rao bán của từng quận/huyện"
   ]
  },
  {
   "cell_type": "code",
   "execution_count": null,
   "metadata": {},
   "outputs": [],
   "source": [
    "# Đếm số lượng BĐS trong mỗi quận\n",
    "district_counts = unduplicated_data['Quận'].value_counts().reset_index()\n",
    "district_counts.columns = ['Quận', 'Số lượng BĐS']\n",
    "\n",
    "# Xử lý để colormap\n",
    "norm = plt.Normalize(min(district_counts[\"Số lượng BĐS\"]), max(district_counts[\"Số lượng BĐS\"])) # Chuaarn hoas duwx lieeuj\n",
    "colors = list(cm.Blues(norm(district_counts[\"Số lượng BĐS\"])))  # Ánh xạ dữ liệu vào hệ màu Blues, palette không hỗ trợ numpy array\n",
    "                                                                # nên phải chuyển sang list\n",
    "\n",
    "# Vẽ biểu đồ với seaborn\n",
    "plt.figure(figsize=(10, 7))\n",
    "ax = sns.barplot(data=district_counts, x='Quận', y='Số lượng BĐS', palette=colors, hue='Quận', legend=False)\n",
    "\n",
    "# Thêm số lên cột\n",
    "for i, p in enumerate(ax.patches):\n",
    "    if district_counts['Số lượng BĐS'][i] >= 800:  # Điều kiện\n",
    "        ax.annotate(format(p.get_height(), '.0f'), \n",
    "                    (p.get_x() + p.get_width() / 2., p.get_height()), \n",
    "                    ha='center', va='center', xytext=(0, 7), textcoords='offset points', fontsize=10)\n",
    "    \n",
    "plt.title('Thống kê số lượng bất động sản được rao bán trên sàn theo Quận')\n",
    "plt.xlabel('Quận')\n",
    "plt.ylabel('Số lượng BĐS')\n",
    "plt.xticks(rotation=45)\n",
    "plt.tight_layout()\n",
    "plt.show()\n"
   ]
  },
  {
   "cell_type": "markdown",
   "metadata": {},
   "source": [
    "**Nhận xét:**\n",
    "- Dựa vào thống kê, chúng ta dễ dàng nhận ra các quận trung tâm như quận 1, 2, 7, 9, Bình Thạnh là các các quận có thị trường bất động sản sôi nổi nhất khu vực thành phố Hồ Chí Minh khi có từ hơn 600 đến hơn 1000 bất động sản được rao bán trong từng quận. \n",
    "\n",
    "- Mặt khác, các quận/huyện ngoài rìa như huyện Hóc Môn, Cần Giờ, Củ Chi, Quận 11 là các quận ảm đạm về thị trường bất động sản nhất khi chỉ có dưới 200 bất động sản được đang bán trong thời gian của dữ liệu đăng bán.\n",
    "\n",
    "- Dễ dàng nhận thấy chính sách thành lập thành phố Thủ Đức trực thuộc thành phố Hồ Chí Minh mang lại những tín hiệu tích cực rõ rệt trên thị trường bất động sản khi cả 3 quận thành viên của thành phố Thủ Đức lần lượt đều đứng top đầu trong số các quận có nhiều bất động sản được đăng bán nhất, cụ thể:\n",
    "    - Quận 2 với 1070 BDS (top 1)\n",
    "    - Quận 9 với 900 BDS (top 3)\n",
    "    - Quận Thủ Đức với 687 BDS (top 6)\n",
    "\n",
    "*Ghi chú: Dữ liệu được thu thập từ 27/09/24 đến 31/10/24 tại trang web batdongsan.com*"
   ]
  },
  {
   "cell_type": "markdown",
   "metadata": {},
   "source": [
    "### 2. Thống kê số lượng bất động sản được rao bán theo thời gian thống kê"
   ]
  },
  {
   "cell_type": "code",
   "execution_count": null,
   "metadata": {},
   "outputs": [],
   "source": [
    "# Đếm số lượng BĐS trong mỗi quận\n",
    "date_counts = unduplicated_data['Ngày đăng'].value_counts().reset_index()\n",
    "date_counts.columns = ['Ngày đăng', 'Số lượng BĐS']\n",
    "\n",
    "# Sắp xếp dữ liệu theo ngày\n",
    "date_counts = date_counts.sort_values(by='Ngày đăng')\n",
    "\n",
    "# Vẽ biểu đồ với seaborn\n",
    "plt.figure(figsize=(10, 6))\n",
    "sns.lineplot(data=date_counts, x='Ngày đăng', y='Số lượng BĐS', color=\"blue\")\n",
    "plt.title('Thống kê số lượng bất động sản được rao bán trên sàn theo Quận')\n",
    "plt.xlabel('Ngày đăng')\n",
    "plt.ylabel('Số lượng BĐS')\n",
    "plt.xticks(rotation=45)\n",
    "plt.grid(alpha=0.5)\n",
    "plt.tight_layout()\n",
    "plt.show()"
   ]
  },
  {
   "cell_type": "code",
   "execution_count": null,
   "metadata": {},
   "outputs": [],
   "source": [
    "# Danh sách các quận chính\n",
    "main_districts = [\n",
    "    \"quận 1\", \"quận 2\", \"quận 7\", \"quận 9\", \n",
    "    \"bình thạnh\", \"thủ đức\", \n",
    "    \"tân bình\", \"tân phú\"\n",
    "]\n",
    "\n",
    "# Danh sách quận thuộc khu vực Thủ Đức\n",
    "thu_duc_districts = [\"quận 2\", \"quận 9\", \"quận thủ đức\"]\n",
    "\n",
    "# Gộp nhóm các khu vực\n",
    "unduplicated_data[\"Khu vực\"] = unduplicated_data[\"Quận\"].apply(\n",
    "    lambda x: \"Khu vực Thủ Đức\" if x in thu_duc_districts else \"Khu vực TP.HCM\"\n",
    ")\n",
    "\n",
    "# Gom nhóm theo \"Ngày đăng\" và \"Nhóm quận\", đếm số lượng tin bất động sản\n",
    "grouped_data = unduplicated_data.groupby([\"Ngày đăng\", \"Khu vực\"]).size().reset_index(name=\"Số lượng\")\n",
    "\n",
    "# Pivot table để chuẩn bị dữ liệu\n",
    "pivot_data = grouped_data.pivot(index=\"Ngày đăng\", columns=\"Khu vực\", values=\"Số lượng\").fillna(0)\n",
    "\n",
    "# Tính phần trăm trên mỗi hàng\n",
    "percent_data = pivot_data.div(pivot_data.sum(axis=1), axis=0) * 100\n",
    "\n",
    "# Vẽ biểu đồ miền\n",
    "plt.figure(figsize=(12, 6))\n",
    "percent_data.plot(kind='area', stacked=True, alpha=0.7, figsize=(12, 6), cmap=\"tab10\")\n",
    "plt.title(\"Tỷ lệ tin bất động sản theo ngày và nhóm quận (%)\")\n",
    "plt.xlabel(\"Ngày đăng\")\n",
    "plt.ylabel(\"Tỷ lệ (%)\")\n",
    "plt.legend(title=\"Khu Vực\", bbox_to_anchor=(1.05, 1), loc='upper left')\n",
    "plt.tight_layout()\n",
    "plt.show()"
   ]
  },
  {
   "cell_type": "markdown",
   "metadata": {},
   "source": [
    "**Nhận xét:**\n",
    "- Số lượng bất động sản được rao bán trên sàn batdongsan.com ghi nhận một sự tăng trưởng đáng kể trong thời gian gần cuối năm.\n",
    "\n",
    "- Khu vực thành phố Hồ Chí Minh ghi nhận một xu hướng tăng nhẹ về tổng số lượng tin bất động sản được đăng bán thời điểm cuối năm khi so với khu vực Thủ Đức\n",
    "\n",
    "*Ghi chú: Dữ liệu được thu thập từ 27/09/24 đến 31/10/24 tại trang web batdongsan.com*"
   ]
  },
  {
   "cell_type": "markdown",
   "metadata": {},
   "source": [
    "## II. Một số các thống kê khác"
   ]
  },
  {
   "cell_type": "markdown",
   "metadata": {},
   "source": [
    "### 1. Phân bổ bất động sản theo các khoảng giá"
   ]
  },
  {
   "cell_type": "code",
   "execution_count": null,
   "metadata": {},
   "outputs": [],
   "source": [
    "# Định nghĩa các khoảng giá và gắn nhãn\n",
    "bins = [0, 2, 5, 10, 20, 50, 100, float('inf')]  # Các khoảng giá (tính bằng đồng)\n",
    "labels = [\n",
    "    \"0 - 2 tỷ\", \"2 - 5 tỷ\", \"5 - 10 tỷ\", \"10 - 20 tỷ\", \n",
    "    \"20 - 50 tỷ\", \"50 - 100 tỷ\", \"Trên 100 tỷ\"\n",
    "]\n",
    "\n",
    "# Phân loại giá trị\n",
    "unduplicated_data[\"Khoảng giá\"] = pd.cut(unduplicated_data[\"Giá\"], bins=bins, labels=labels, right=False)\n",
    "\n",
    "# Đếm số lượng bất động sản thuộc mỗi khoảng\n",
    "price_distribution = unduplicated_data[\"Khoảng giá\"].value_counts(sort=False)\n",
    "\n",
    "# Vẽ biểu đồ\n",
    "plt.figure(figsize=(10, 6))\n",
    "price_distribution.plot(kind='bar', color='skyblue', edgecolor='black')\n",
    "plt.title(\"Phân bố bất động sản theo khoảng giá\")\n",
    "plt.xlabel(\"Khoảng giá (VNĐ)\")\n",
    "plt.ylabel(\"Số lượng bất động sản\")\n",
    "plt.xticks(rotation=45, ha='right')\n",
    "plt.grid(axis='y', linestyle='--', alpha=0.7)\n",
    "plt.tight_layout()\n",
    "plt.show()"
   ]
  },
  {
   "cell_type": "markdown",
   "metadata": {},
   "source": [
    "**Nhận xét:**\n",
    "- Dữ liệu cho thấy phần đông các bất động sản có giá trị từ trung bình đến cao cấp, cụ thể:\n",
    "    - Các bất động sản tập trung nhiều nhất ở khoảng giá từ 2 - 10 tỷ, cho thấy các thị trường tập trung phần lớn vào tầng lớp trung lưu, nơi đang có sự mở rộng nhanh tại thành phố Hồ Chí Minh nhờ sự phát triển kinh tế mạnh mẽ vào nhiều năm trở lại đây.\n",
    "    - Sự phân bổ các bất động sản có phần giảm dần ở phân khúc cao hơn 10 tỷ, nhưng vẫn ở mức cao cho thấy tầng lớp thượng lưu tai thành phố Hồ Chí Minh cũng là nhóm khách hàng mà thị trường đang dần hướng tới.\n",
    "- Số liệu về các bất động sản thuộc mức giá trị thấp và siêu cao chỉ chiếm thiểu số\n",
    "    - Các bất động sản thuộc phân khúc thấp chiếm phần ít nhất khi chỉ có hơn 500 bất động sản được rao bán, điều này cho thấy giá đất đai và chi phí xây dựng cao khiến việc cung cấp một bất động sản có giá trị thấp ngày càng xa vời và thành phố đang thiếu các chính sách hỗ trợ để những người có thu nhập phổ thông có khả năng có nhà tại thành phố.\n",
    "    - Mặc dù các bất động sản có giá siêu cao chỉ chiếm số ít nhưng lại cao hơn khu vực bất động sản giá thấp, cho thấy thị trường này vẫn rất tìm năng đối với các chủ đầu tư bất động sản.\n",
    "\n",
    "\n",
    "*Ghi chú: Dữ liệu được thu thập từ 27/09/24 đến 31/10/24 tại trang web batdongsan.com*"
   ]
  },
  {
   "cell_type": "markdown",
   "metadata": {},
   "source": [
    "### 2. Thị phần bất động sản của các nhóm bất động sản"
   ]
  },
  {
   "cell_type": "code",
   "execution_count": 29,
   "metadata": {},
   "outputs": [],
   "source": [
    "# Xử lý dữ liệu trước khi vẽ biểu đồ \n",
    "# Tạo cột \"Loại chủ đầu tư\" để phân nhóm\n",
    "unduplicated_data[\"Chủ Đầu Tư\"] = unduplicated_data[\"Chủ Đầu Tư\"].str.lower()\n",
    "unduplicated_data[\"Loại Chủ Đầu Tư\"] = unduplicated_data[\"Chủ Đầu Tư\"].apply(\n",
    "    lambda x: \"công ty\" if x != \"cá nhân/môi giới\" else \"cá nhân/môi giới\"\n",
    ")\n"
   ]
  },
  {
   "cell_type": "code",
   "execution_count": null,
   "metadata": {},
   "outputs": [],
   "source": [
    "\n",
    "# 1. Tính phần trăm thị phần\n",
    "market_share = unduplicated_data[\"Loại Chủ Đầu Tư\"].value_counts(normalize=True) * 100\n",
    "\n",
    "# 2. Tính giá trị trung bình và vẽ biểu đồ cột\n",
    "avg_price = unduplicated_data.groupby(\"Loại Chủ Đầu Tư\")[\"Giá\"].mean()\n",
    "\n",
    "# Vẽ hai biểu đồ (thị phần và giá trị trung bình) \n",
    "fig, axes = plt.subplots(1, 2, figsize=(12, 6))\n",
    "\n",
    "# Biểu đồ tròn thị phần (biểu đồ 1)\n",
    "axes[0].pie(\n",
    "    market_share, \n",
    "    labels=market_share.index, \n",
    "    autopct='%1.1f%%', \n",
    "    startangle=140, \n",
    "    colors=[\"#66b3ff\", \"#ffcc99\"]\n",
    ")\n",
    "axes[0].set_title(\"Phần trăm thị phần giữa Cá nhân/môi giới và Công ty\")\n",
    "\n",
    "# Biểu đồ cột giá trị trung bình (biểu đồ 2)\n",
    "avg_price.plot(\n",
    "    kind=\"bar\", \n",
    "    color=[\"#66b3ff\", \"#ffcc99\"], \n",
    "    edgecolor=\"black\", \n",
    "    ax=axes[1]\n",
    ")\n",
    "axes[1].set_title(\"Giá trị trung bình bất động sản theo loại chủ đầu tư\")\n",
    "axes[1].set_ylabel(\"Giá trung bình (tỷ đồng)\")\n",
    "axes[1].grid(axis=\"y\", linestyle=\"--\", alpha=0.7)\n",
    "axes[1].set_xticklabels(avg_price.index, rotation=0)\n",
    "\n",
    "plt.tight_layout()\n",
    "plt.show()\n"
   ]
  },
  {
   "cell_type": "markdown",
   "metadata": {},
   "source": [
    "**Nhận xét:**\n",
    "- Dữ liệu thống kê được phần lớn các bất động sản được rao bán là thuộc quản lý tư nhân hoặc môi giới:\n",
    "    - Điều này không đồng nghĩa với việc số lượng bất động sản thực tế trên thị trường chiếm số đông ở cá nhân và môi giới, vì các công ty/tập đoàn bất động sản lớn thường rao bán trên nhiều kênh khác nhau mà chủ yếu là trên trang web chính thức của họ, do đó số liệu trên sàn tập trung này sẽ không nhiều bằng cá nhân và môi giới hay nói cách khác các sàn bất động sản tập trung không phải là kênh chính của các tập đoàn lớn\n",
    "    - Đồng nghĩa với việc các sàn online tập trung như batdongsan.com là kênh chính của các nhà bất động sản \"cá nhân/môi giới\"\n",
    "\n",
    "- Giá trị trung bình của các động sản cá nhân cao hơn rất nhiều (gần gấp đôi) so với các bất động sản thuộc diện công ty/tập đoàn bất động sản.\n",
    "    - Các công ty/tập đoàn bất động sản thường hướng tới việc phục vụ cho nhu cầu số đông của các cá nhân nhân trên thị trường, do đó các bất động sản của họ thưòng có mức giá được cho là dễ tiếp cận hơn cho toàn thể dân cư so với các bất động sản cá nhân.\n",
    "    - Các cá nhân/môi giới có giá trị trung bình của các bất động sản cao hơn có thể do sự cấu thành của nhiều lý do:\n",
    "        - Khác với các bất động sản công ty/tập đoàn thường cố định theo mức giá đã được đề ra, các bất động sản cá nhân thường phải thông qua thương lượng để chốt được mức giá hợp lý, do đó các cá nhân thường đẩy giá cao hơn so với mức giá trị chính xác của BDS dẫn tới mức giá trung bình trên sàn thương mại cao hơn.\n",
    "        - Các biệt thự các mức giá trị cao thường được rao bán dưới dạng cá nhân/môi giới, do đó nó cũng góp phần làm tăng mức giá trung bình của nhóm BDS này.\n",
    "\n",
    "*Ghi chú: Dữ liệu được thu thập từ 27/09/24 đến 31/10/24 tại trang web batdongsan.com*"
   ]
  },
  {
   "cell_type": "markdown",
   "metadata": {},
   "source": [
    "### 3. Thị phần BDS của thành phần các công ty BDS"
   ]
  },
  {
   "cell_type": "code",
   "execution_count": 31,
   "metadata": {},
   "outputs": [],
   "source": [
    "def handle_name_of_developers(value):\n",
    "    try:\n",
    "        # Thay thế \"Công ty\" thành \"CT\" và \"Cổ phần\" thành \"CP\"\n",
    "        value = value.replace(\"công ty\", \"CT\").replace(\"cổ phần\", \"CP\")\n",
    "        return value\n",
    "    except:\n",
    "        return value\n"
   ]
  },
  {
   "cell_type": "code",
   "execution_count": null,
   "metadata": {},
   "outputs": [],
   "source": [
    "\n",
    "# 3. Phân tích các công ty\n",
    "company_data = unduplicated_data[unduplicated_data[\"Loại Chủ Đầu Tư\"] == \"công ty\"].copy()\n",
    "\n",
    "company_data[\"Chủ Đầu Tư\"] = company_data[\"Chủ Đầu Tư\"].apply(handle_name_of_developers)\n",
    "\n",
    "# Chuyển các chủ đầu tư có tên \"đang cập nhật\" vào nhóm \"Khác\"\n",
    "company_data.loc[company_data[\"Chủ Đầu Tư\"] == \"đang cập nhật\", \"Chủ Đầu Tư\"] = \"khác\"\n",
    "\n",
    "# Đếm số lượng bất động sản của từng công ty sau khi xử lý\n",
    "top_companies_updated = company_data[\"Chủ Đầu Tư\"].value_counts()\n",
    "\n",
    "# Đếm số lượng chủ đầu tư duy nhất\n",
    "num_developers = company_data[\"Chủ Đầu Tư\"].nunique()\n",
    "\n",
    "# Tách 10 công ty lớn nhất (sau khi xử lý) và gộp các công ty khác\n",
    "top_10_updated = top_companies_updated[:10]\n",
    "others_updated = top_companies_updated[10:].sum()\n",
    "top_10_updated[\"khác\"] += others_updated\n",
    "\n",
    "# Sắp xếp lại dữ liệu trước khi vẽ\n",
    "top_10_updated = top_10_updated.sort_values(ascending=True)\n",
    "\n",
    "# Vẽ lại biểu đồ tròn sau khi xử lý\n",
    "plt.figure(figsize=(8, 8))\n",
    "plt.pie(\n",
    "    top_10_updated, \n",
    "    labels=top_10_updated.index, \n",
    "    autopct='%1.1f%%', \n",
    "    startangle=140, \n",
    "    colors=sns.color_palette(\"Set3\")\n",
    ")\n",
    "\n",
    "plt.title(\"Số lượng bất động sản của 10 công ty lớn nhất và các công ty khác\")\n",
    "plt.show()"
   ]
  },
  {
   "cell_type": "code",
   "execution_count": null,
   "metadata": {},
   "outputs": [],
   "source": [
    "numer_of_deverlopers = company_data[\"Chủ Đầu Tư\"].nunique()\n",
    "print (f\"Số lượng các công ty/tập đoàn BDS: {numer_of_deverlopers}\")"
   ]
  },
  {
   "cell_type": "markdown",
   "metadata": {},
   "source": [
    "**Nhận xét:**\n",
    "- Dựa vào dữ liệu ta thấy rằng thị phần BDS không phân tán tập trung vào các tập đoàn lớn mà phân tán rộng khắp cho các công ty và tập đoàn\n",
    "    - Có đến 201 công ty/tập đoàn BDS khác nhau trong tập dữ liệu thu thập được\n",
    "    - Có hơn 57% các bất động sản thuộc các công ty/tập đoàn vừa và nhỏ\n",
    "- Trong các công ty/tập đoàn BDS lớn thì Phú Mỹ Hưng, Gamuda Land, VinGroup, Novaland Group và Tập Đoàn Hưng Thịnh là các tập đoàn lớn thâu tóm số lượng lớn các bất động sản (chiếm khoảng 25% thị phần các bất động sản công ty/tập đoàn)\n",
    "    - Phú Mỹ Hưng là công ty top 1 với 8.3% thị phần\n",
    "    - VinGroup và Gamuda Land lần lượt chiếm vị trí thứ 2 và 3 với chỉ số 6.6% và 5.4%\n",
    "    - Novaland Group và Tập Đoàn Hưng Thịnh đang mất dần thị phần qua nhiều biến cố với 4.7% và 4.6% lần lượt đứng thứ 4 và 5 \n",
    "\n",
    "\n",
    "*Ghi chú: Dữ liệu được thu thập từ 27/09/24 đến 31/10/24 tại trang web batdongsan.com*"
   ]
  },
  {
   "cell_type": "markdown",
   "metadata": {},
   "source": [
    "## III. Sự liên hệ về giá và diện tích BDS tại thành phố Hồ Chí Minh"
   ]
  },
  {
   "cell_type": "code",
   "execution_count": null,
   "metadata": {},
   "outputs": [],
   "source": [
    "tmep = unduplicated_data.sample(20)\n",
    "tmep\n"
   ]
  },
  {
   "cell_type": "code",
   "execution_count": null,
   "metadata": {},
   "outputs": [],
   "source": [
    "# Rút trích dữ liệu của một số quận để Visualization \n",
    "district_2 = unduplicated_data[unduplicated_data[\"Quận\"] == \"quận 2\"]\n",
    "district_7 = unduplicated_data[unduplicated_data[\"Quận\"] == \"quận 7\"]\n",
    "district_9 = unduplicated_data[unduplicated_data[\"Quận\"] == \"quận 9\"]\n",
    "district_BinhThanh = unduplicated_data[unduplicated_data[\"Quận\"] == \"bình thạnh\"]\n",
    "\n",
    "\n",
    "datasets = [district_2, district_7, district_9, district_BinhThanh]\n",
    "district_names = [\"Quận 2\", \"Quận 7\", \"Quận 9\", \"Bình Thạnh\"]\n",
    "\n",
    "# Tạo GridSpec để quản lý bố cục\n",
    "fig = plt.figure(figsize=(16, 10))\n",
    "gs = GridSpec(3, 2, figure=fig)  # 3 hàng, 2 cột\n",
    "\n",
    "# Biểu đồ tổng thể (ở dòng đầu tiên, chiếm cả hàng)\n",
    "ax_total = fig.add_subplot(gs[0, :])  # Chiếm toàn bộ dòng đầu\n",
    "sns.regplot(data=unduplicated_data, x=\"Diện Tích\", y=\"Giá\", ax=ax_total)\n",
    "ax_total.set_title('Sự liên hệ giữa Giá trị và Diện tích BDS tại TP.HCM')\n",
    "ax_total.set_xlabel('Diện tích (m2)')\n",
    "ax_total.set_ylabel('Giá (tỷ VND)')\n",
    "\n",
    "# Biểu đồ cho từng quận (ở các dòng sau)\n",
    "for i, (data, name) in enumerate(zip(datasets, district_names)):\n",
    "    row, col = divmod(i, 2)  # Tính hàng và cột\n",
    "    ax = fig.add_subplot(gs[row + 1, col])  # Bắt đầu từ dòng thứ 2\n",
    "    sns.regplot(data=data, x=\"Diện Tích\", y=\"Giá\", ax=ax)\n",
    "    ax.set_title(f'Biểu đồ {i + 1}: {name}')\n",
    "    ax.set_xlabel('Diện tích (m2)')\n",
    "    ax.set_ylabel('Giá (tỷ VND)')\n",
    "\n",
    "# Tinh chỉnh bố cục\n",
    "plt.tight_layout()\n",
    "plt.show()\n",
    "\n"
   ]
  },
  {
   "cell_type": "markdown",
   "metadata": {},
   "source": [
    "**Nhận xét:**\n",
    "- Nhìn chung thuộc tính giá và diện tích có một sự tương quan thuận khá yếu\n",
    "    - Điều này cho thấy ngoài diện tích thì còn nhiều yếu tố khác có ảnh hưởng đến mức giá của BDS có thể nhắc đến như: vị trí, tiện ích đi kèm,...\n",
    "- Dữ liệu tại quận 2 cho thấy sự tương quan thuận về diện tích và mức giá là khác cao so với các quận còn lại\n",
    "    - Tuy diện tích quận 2 là khá rộng so với mặt bằng chung, nhưng quận 2 có sự đồng đều về mức giá ở các khu vực khác nhau của quận dẫn tới sự tương quan thuận cao giữa mức giá và diện tích\n",
    "\n",
    "\n",
    "\n",
    "\n",
    "*Ghi chú: Dữ liệu được thu thập từ 27/09/24 đến 31/10/24 tại trang web batdongsan.com*"
   ]
  },
  {
   "cell_type": "markdown",
   "metadata": {},
   "source": [
    "# C. Hỏi các câu hỏi có ý nghĩa"
   ]
  },
  {
   "cell_type": "markdown",
   "metadata": {},
   "source": [
    "## I. Cần bao nhiêu tiền để sở hữu bất động sản tại thành phố Hồ Chí Minh?"
   ]
  },
  {
   "cell_type": "code",
   "execution_count": null,
   "metadata": {},
   "outputs": [],
   "source": [
    "# Tính giá trị trung bình của Giá theo quận\n",
    "avg_price_by_district = unduplicated_data.groupby(\"Quận\")[\"Giá\"].mean().reset_index()\n",
    "\n",
    "# Sắp xếp giá trị trung bình của Giá theo quận giảm dần\n",
    "avg_price_by_district = avg_price_by_district.sort_values(\"Giá\", ascending=False)\n",
    "\n",
    "# Tính giá trị trung bình của cột \"Triệu/m2\" theo từng quận\n",
    "avg_price_per_m2_by_district = unduplicated_data.groupby(\"Quận\")[\"Triệu/m2\"].mean().reset_index()\n",
    "\n",
    "# Sắp xếp giá trị trung bình của Triệu/m2 theo quận giảm dần\n",
    "avg_price_per_m2_by_district = avg_price_per_m2_by_district.sort_values(\"Triệu/m2\", ascending=False)\n",
    "\n",
    "# Tạo một frame với 2 biểu đồ (1 trên, 1 dưới)\n",
    "fig, ax = plt.subplots(2, 1, figsize=(12, 12))  # 2 hàng, 1 cột\n",
    "\n",
    "# Vẽ biểu đồ cột cho \"Giá\" trong subplot đầu tiên\n",
    "sns.barplot(data=avg_price_by_district, x=\"Quận\", y=\"Giá\", ax=ax[0], palette=\"Spectral\", hue=\"Quận\", legend=False)\n",
    "ax[0].set_title('Giá trị trung bình các bất động sản theo quận', fontsize=16)\n",
    "ax[0].set_xlabel('Quận', fontsize=12)\n",
    "ax[0].set_ylabel('Giá (tỷ VND)', fontsize=12)\n",
    "ax[0].tick_params(axis='x', rotation=45)\n",
    "\n",
    "# Ghi giá trị lên các cột ở biểu đồ đầu tiên\n",
    "for container in ax[0].containers:\n",
    "    ax[0].bar_label(container, fmt=\"%.1f\", label_type=\"edge\", fontsize=10)\n",
    "\n",
    "# Vẽ biểu đồ cột cho \"Triệu/m2\" trong subplot thứ hai\n",
    "sns.barplot(data=avg_price_per_m2_by_district, x=\"Quận\", y=\"Triệu/m2\", ax=ax[1], palette=\"viridis\", hue=\"Quận\", legend=False)\n",
    "ax[1].set_title('Giá trị trung bình (triệu/m2) các bất động sản theo quận', fontsize=16)\n",
    "ax[1].set_xlabel('Quận', fontsize=12)\n",
    "ax[1].set_ylabel('Giá trị trung bình (triệu/m2)', fontsize=12)\n",
    "ax[1].tick_params(axis='x', rotation=45)\n",
    "\n",
    "# Ghi giá trị lên các cột ở biểu đồ thứ hai\n",
    "for container in ax[1].containers:\n",
    "    ax[1].bar_label(container, fmt=\"%.1f\", label_type=\"edge\", fontsize=10)\n",
    "\n",
    "# Tinh chỉnh khoảng cách giữa các biểu đồ\n",
    "plt.tight_layout()\n",
    "plt.show()\n"
   ]
  },
  {
   "cell_type": "markdown",
   "metadata": {},
   "source": [
    "**Nhận xét:**\n",
    "\n",
    "- **1. Mức giá trung bình (tính theo tổng giá trị):**\n",
    "    - Quận 3 và Quận 1 là hai quận có giá trung bình cao nhất, lần lượt là 59.95 tỷ và 51.51 tỷ.\n",
    "    - Các khu vực có giá trung bình thấp nhất là Cần Giờ (7.22 tỷ), Quận 4 (7.28 tỷ), và Quận 8 (8.29 tỷ).\n",
    "    - Như vậy, để sở hữu một bất động sản tại TP.HCM, bạn cần trung bình từ 7 tỷ đến gần 60 tỷ, tùy thuộc vào quận.\n",
    "- **2. Mức giá trung bình (tính theo triệu/m²):**\n",
    "    - Quận 1 có mức giá trên mỗi mét vuông cao nhất: 290.49 triệu/m², gần gấp đôi nhiều khu vực khác.\n",
    "    - Các quận như Quận 3 (288.09 triệu/m²) và Quận 5 (215.71 triệu/m²) cũng nằm trong nhóm đắt đỏ.\n",
    "    - Các khu vực xa trung tâm như Cần Giờ (17.30 triệu/m²) và Củ Chi (10.42 triệu/m²) có giá rẻ hơn nhiều.\n",
    "    - Vì vậy, bạn cần chuẩn bị từ 10 triệu đến gần 300 triệu/m², tùy thuộc vào vị trí bất động sản.\n",
    "- **3. Nhận xét tổng quan:**\n",
    "    - Khu vực trung tâm (Quận 1, Quận 3): Cần ngân sách cao, với mức giá bất động sản trung bình từ 50-60 tỷ và giá đất trung bình gần 300 triệu/m².\n",
    "    - Khu vực cận trung tâm (Bình Thạnh, Quận 2, Quận 10): Cần ngân sách từ 20-30 tỷ, với mức giá đất dao động từ 140-200 triệu/m².\n",
    "    - Khu vực ngoại thành (Củ Chi, Cần Giờ): Đây là những lựa chọn phù hợp với ngân sách thấp hơn, từ 7-10 tỷ, và giá đất chỉ khoảng 10-20 triệu/m².\n",
    "- **4. Câu trả lời tổng hợp:**\n",
    "    - Ngân sách tối thiểu: Khoảng 7 tỷ đồng cho một bất động sản tại các quận ngoại thành như Cần Giờ hoặc Củ Chi.\n",
    "    - Ngân sách trung bình cho khu vực trung tâm: Từ 50 tỷ đồng trở lên (hoặc hơn nếu là bất động sản lớn tại Quận 1, Quận 3).\n",
    "    - Mức giá trung bình đất: Khoảng 150-300 triệu/m² cho trung tâm, và dưới 50 triệu/m² cho các khu vực xa trung tâm.\n",
    "    - Nếu bạn là một người có tài chính không quá dư giả nhưng muốn ở một quận trung tâm, hãy lựa chọn quận 4 khi chỉ cách Quận 1 một cái cầu và giá trung bình chỉ từ 7.3 tỷ cho một bất động sản."
   ]
  },
  {
   "cell_type": "code",
   "execution_count": null,
   "metadata": {},
   "outputs": [],
   "source": [
    "unduplicated_data.drop(columns=[\"Hướng nhà\", \"Hướng ban công\", \"Số Căn Hộ\"], inplace=True)\n",
    "unduplicated_data.head()"
   ]
  },
  {
   "cell_type": "code",
   "execution_count": null,
   "metadata": {},
   "outputs": [],
   "source": [
    "sample = unduplicated_data.copy()\n",
    "sample.dropna(inplace=True)\n",
    "sample.info()"
   ]
  },
  {
   "cell_type": "code",
   "execution_count": 45,
   "metadata": {},
   "outputs": [],
   "source": [
    "sample['Giá Quận'] = sample[\"Quận\"].map(\n",
    "    sample.groupby(\"Quận\")[\"Giá\"].median()\n",
    ")\n",
    "\n",
    "# Tính giá trung vị cho từng Đường (trong từng Quận) và thêm cột \"Giá Đường\"\n",
    "median_gia_duong = sample.groupby([\"Đường\", \"Quận\"])[\"Giá\"].median()\n",
    "sample[\"Giá Đường\"] = sample.set_index([\"Đường\", \"Quận\"]).index.map(median_gia_duong)"
   ]
  },
  {
   "cell_type": "code",
   "execution_count": null,
   "metadata": {},
   "outputs": [],
   "source": [
    "sample.drop(columns=[\"Loại tin\", \"Ngày đăng\", \"Quận\", \"Đường\", \"Chủ Đầu Tư\", \"Trạng Thái\", \"Khu vực\", \"Khoảng giá\", \"Loại Chủ Đầu Tư\"], inplace=True)\n",
    "sample.reset_index()"
   ]
  },
  {
   "cell_type": "code",
   "execution_count": 47,
   "metadata": {},
   "outputs": [],
   "source": [
    "sample.to_csv(\"data_for_model.csv\")"
   ]
  }
 ],
 "metadata": {
  "kernelspec": {
   "display_name": "base",
   "language": "python",
   "name": "python3"
  },
  "language_info": {
   "codemirror_mode": {
    "name": "ipython",
    "version": 3
   },
   "file_extension": ".py",
   "mimetype": "text/x-python",
   "name": "python",
   "nbconvert_exporter": "python",
   "pygments_lexer": "ipython3",
   "version": "3.11.7"
  }
 },
 "nbformat": 4,
 "nbformat_minor": 2
}
