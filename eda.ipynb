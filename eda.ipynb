{
 "cells": [
  {
   "cell_type": "code",
   "execution_count": 49,
   "metadata": {},
   "outputs": [
    {
     "name": "stdout",
     "output_type": "stream",
     "text": [
      "<class 'pandas.core.frame.DataFrame'>\n",
      "Index: 9069 entries, 0 to 30359\n",
      "Data columns (total 16 columns):\n",
      " #   Column          Non-Null Count  Dtype         \n",
      "---  ------          --------------  -----         \n",
      " 0   Hướng nhà       2279 non-null   object        \n",
      " 1   Hướng ban công  1400 non-null   object        \n",
      " 2   Loại tin        9069 non-null   object        \n",
      " 3   Area Range      9069 non-null   category      \n",
      " 4   Diện Tích       9069 non-null   float64       \n",
      " 5   Giá             9069 non-null   float64       \n",
      " 6   Triệu/m2        9069 non-null   float64       \n",
      " 7   Ngày đăng       9069 non-null   datetime64[ns]\n",
      " 8   Số Phòng Ngủ    9069 non-null   float64       \n",
      " 9   Số Nhà Vệ Sinh  9069 non-null   float64       \n",
      " 10  Quận            9069 non-null   object        \n",
      " 11  Giá Đề Xuất     9069 non-null   float64       \n",
      " 12  Đường           6824 non-null   object        \n",
      " 13  Số Căn Hộ       899 non-null    float64       \n",
      " 14  Chủ Đầu Tư      9069 non-null   object        \n",
      " 15  Trạng Thái      9069 non-null   object        \n",
      "dtypes: category(1), datetime64[ns](1), float64(7), object(7)\n",
      "memory usage: 1.1+ MB\n"
     ]
    }
   ],
   "source": [
    "unduplicated_data.info()\n",
    "import requests\n",
    "\n",
    "API_KEY = 'pk.eyJ1IjoibWluLWhpZW4iLCJhIjoiY2xuZWt3ODRiMGQyZjJycml4aWNqdzJnOSJ9.gm7kTZ04NHQlKB6IEm7tqQ'\n",
    "BASE_URL = \"https://api.mapbox.com/geocoding/v5/mapbox.places\"\n",
    "\n",
    "def get_lat_lon_mapbox(address):\n",
    "    params = {\n",
    "        'access_token': API_KEY,\n",
    "        'query': address,\n",
    "        'limit': 1\n",
    "    }\n",
    "    response = requests.get(BASE_URL + f'/{address}.json', params=params)\n",
    "    data = response.json()\n",
    "    if data['features']:\n",
    "        lat = data['features'][0]['center'][1]\n",
    "        lon = data['features'][0]['center'][0]\n",
    "        return pd.Series([lat, lon])\n",
    "    else:\n",
    "        return pd.Series([None, None])\n",
    "\n",
    "# Combine Đường and Quận to form the address\n",
    "unduplicated_data['Full_Address'] = unduplicated_data['Đường'].fillna('') + \", \" + unduplicated_data['Quận'] + \", Hồ Chí Minh, Vietnam\"\n",
    "\n",
    "# Apply the function to your DataFrame\n",
    "unduplicated_data[['Latitude', 'Longitude']] = unduplicated_data['Full_Address'].apply(get_lat_lon_mapbox)\n",
    "\n",
    "# Save the updated file\n",
    "unduplicated_data.to_csv(\"output_with_lat_lon.csv\", index=False)"
   ]
  }
 ],
 "metadata": {
  "kernelspec": {
   "display_name": "base",
   "language": "python",
   "name": "python3"
  },
  "language_info": {
   "codemirror_mode": {
    "name": "ipython",
    "version": 3
   },
   "file_extension": ".py",
   "mimetype": "text/x-python",
   "name": "python",
   "nbconvert_exporter": "python",
   "pygments_lexer": "ipython3",
   "version": "3.12.3"
  }
 },
 "nbformat": 4,
 "nbformat_minor": 2
}
